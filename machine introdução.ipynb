{
 "cells": [
  {
   "cell_type": "code",
   "execution_count": 3,
   "id": "08129f61",
   "metadata": {},
   "outputs": [],
   "source": [
    "#features (1 sim, 0 não)\n",
    "#pelo longo?\n",
    "#perna curta\n",
    "#faz au au?\n",
    "porco1 = [0,1,0]\n",
    "porco2 = [0,1,1]\n",
    "porco3 = [1,1,0]\n",
    "\n",
    "cachorro1 = [0,1,1]\n",
    "cachorro2 = [1,0,1]\n",
    "cachorro3 = [1,1,1]\n",
    "dados = [porco1,porco2, porco3,cachorro1, cachorro2, cachorro3]\n",
    "classes = [1,1,1,0,0,0]"
   ]
  },
  {
   "cell_type": "code",
   "execution_count": 19,
   "id": "3ac285c1",
   "metadata": {},
   "outputs": [
    {
     "data": {
      "text/plain": [
       "LinearSVC()"
      ]
     },
     "execution_count": 19,
     "metadata": {},
     "output_type": "execute_result"
    }
   ],
   "source": [
    "from sklearn.svm import LinearSVC\n",
    "from sklearn.metrics import accuracy_score\n",
    "modelo = LinearSVC()\n",
    "modelo.fit(dados, classes)"
   ]
  },
  {
   "cell_type": "code",
   "execution_count": 20,
   "id": "7e48a01e",
   "metadata": {},
   "outputs": [
    {
     "data": {
      "text/plain": [
       "array([0])"
      ]
     },
     "execution_count": 20,
     "metadata": {},
     "output_type": "execute_result"
    }
   ],
   "source": [
    "animal_misterioso = [1,1,1]\n",
    "modelo.predict([animal_misterioso])"
   ]
  },
  {
   "cell_type": "code",
   "execution_count": 21,
   "id": "7bf637b9",
   "metadata": {},
   "outputs": [],
   "source": [
    "misterio1 = [1,1,1]\n",
    "misterio2 = [1,1,0]\n",
    "misterio3 = [0,1,1]\n",
    "\n",
    "teste = [misterio1, misterio2, misterio3]\n",
    "previsoes = modelo.predict(teste)"
   ]
  },
  {
   "cell_type": "code",
   "execution_count": 22,
   "id": "5abed76d",
   "metadata": {},
   "outputs": [],
   "source": [
    "testes_classes = [0,1,1]"
   ]
  },
  {
   "cell_type": "code",
   "execution_count": 23,
   "id": "23ad6f63",
   "metadata": {},
   "outputs": [
    {
     "data": {
      "text/plain": [
       "array([ True,  True, False])"
      ]
     },
     "execution_count": 23,
     "metadata": {},
     "output_type": "execute_result"
    }
   ],
   "source": [
    "previsoes == testes_classes"
   ]
  },
  {
   "cell_type": "code",
   "execution_count": 24,
   "id": "840effb2",
   "metadata": {},
   "outputs": [],
   "source": [
    "taxa_de_acerto = accuracy_score(testes_classes, previsoes)"
   ]
  },
  {
   "cell_type": "code",
   "execution_count": 25,
   "id": "9f3121f2",
   "metadata": {},
   "outputs": [
    {
     "data": {
      "text/plain": [
       "0.6666666666666666"
      ]
     },
     "execution_count": 25,
     "metadata": {},
     "output_type": "execute_result"
    }
   ],
   "source": [
    "taxa_de_acerto"
   ]
  },
  {
   "cell_type": "code",
   "execution_count": null,
   "id": "c7342c4d",
   "metadata": {},
   "outputs": [],
   "source": []
  }
 ],
 "metadata": {
  "kernelspec": {
   "display_name": "Python 3",
   "language": "python",
   "name": "python3"
  },
  "language_info": {
   "codemirror_mode": {
    "name": "ipython",
    "version": 3
   },
   "file_extension": ".py",
   "mimetype": "text/x-python",
   "name": "python",
   "nbconvert_exporter": "python",
   "pygments_lexer": "ipython3",
   "version": "3.8.8"
  }
 },
 "nbformat": 4,
 "nbformat_minor": 5
}
